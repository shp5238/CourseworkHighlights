{
  "cells": [
    {
      "cell_type": "markdown",
      "id": "b91aad42",
      "metadata": {
        "id": "b91aad42"
      },
      "source": [
        "# 🧠 MNIST Digit Classification using CNN (Keras + TensorFlow)\n",
        "\n",
        "In this notebook, we'll use a Convolutional Neural Network (CNN) to classify handwritten digits from the MNIST dataset.\n",
        "\n",
        "---\n",
        "\n",
        "## 📚 What is MNIST?\n",
        "The MNIST dataset contains **70,000 grayscale images** of handwritten digits (0 through 9), each of size **28×28 pixels**.\n",
        "\n",
        "- 60,000 images for training\n",
        "- 10,000 images for testing\n",
        "\n",
        "It's a classic benchmark dataset in computer vision and deep learning.\n"
      ]
    },
    {
      "cell_type": "code",
      "execution_count": null,
      "id": "c22e3a9e",
      "metadata": {
        "id": "c22e3a9e"
      },
      "outputs": [],
      "source": [
        "# Install TensorFlow (uncomment if running on Colab)\n",
        "# !pip install tensorflow\n",
        "import tensorflow as tf\n",
        "from tensorflow.keras import layers, models\n",
        "import numpy as np\n",
        "import matplotlib.pyplot as plt\n"
      ]
    },
    {
      "cell_type": "markdown",
      "id": "c33aca81",
      "metadata": {
        "id": "c33aca81"
      },
      "source": [
        "## 📥 Load and Preprocess the MNIST Data"
      ]
    },
    {
      "cell_type": "code",
      "execution_count": null,
      "id": "6621241b",
      "metadata": {
        "colab": {
          "base_uri": "https://localhost:8080/"
        },
        "id": "6621241b",
        "outputId": "c4f45287-e945-49f1-b810-e1da7eafc714"
      },
      "outputs": [
        {
          "output_type": "stream",
          "name": "stdout",
          "text": [
            "Downloading data from https://storage.googleapis.com/tensorflow/tf-keras-datasets/mnist.npz\n",
            "\u001b[1m11490434/11490434\u001b[0m \u001b[32m━━━━━━━━━━━━━━━━━━━━\u001b[0m\u001b[37m\u001b[0m \u001b[1m0s\u001b[0m 0us/step\n",
            "Training shape: (60000, 28, 28, 1)\n",
            "Testing shape: (10000, 28, 28, 1)\n"
          ]
        }
      ],
      "source": [
        "# Load MNIST dataset\n",
        "(x_train, y_train), (x_test, y_test) = tf.keras.datasets.mnist.load_data()\n",
        "\n",
        "# Normalize the data to [0,1]\n",
        "x_train = x_train / 255.0\n",
        "x_test = x_test / 255.0\n",
        "\n",
        "# Expand dimensions for channel\n",
        "x_train = np.expand_dims(x_train, axis=-1)\n",
        "x_test = np.expand_dims(x_test, axis=-1)\n",
        "\n",
        "print(\"Training shape:\", x_train.shape)\n",
        "print(\"Testing shape:\", x_test.shape)\n",
        "\n"
      ]
    },
    {
      "cell_type": "markdown",
      "source": [
        "## 👀 Visualize Sample Training Images\n",
        "> Add blockquote\n",
        "\n"
      ],
      "metadata": {
        "id": "kMduSs4U3UNG"
      },
      "id": "kMduSs4U3UNG"
    },
    {
      "cell_type": "code",
      "source": [
        "# Display first 9 training images with labels\n",
        "plt.figure(figsize=(6,6))\n",
        "for i in range(9):\n",
        "    plt.subplot(3,3,i+1)\n",
        "    plt.imshow(x_train[i].squeeze(), cmap='gray')\n",
        "    plt.title(f\"Label: {y_train[i]}\")\n",
        "    plt.axis('off')\n",
        "plt.tight_layout()\n",
        "plt.show()"
      ],
      "metadata": {
        "colab": {
          "base_uri": "https://localhost:8080/",
          "height": 607
        },
        "id": "TB0FhkMo3W18",
        "outputId": "f889be91-2f90-47f4-8f5a-76c2c452505c"
      },
      "id": "TB0FhkMo3W18",
      "execution_count": null,
      "outputs": [
        {
          "output_type": "display_data",
          "data": {
            "text/plain": [
              "<Figure size 600x600 with 9 Axes>"
            ],
            "image/png": "[encoded data removed]"
          },
          "metadata": {}
        }
      ]
    },
    {
      "cell_type": "markdown",
      "id": "e854c291",
      "metadata": {
        "id": "e854c291"
      },
      "source": [
        "## 🧱 Define the CNN Model"
      ]
    },
    {
      "cell_type": "code",
      "execution_count": null,
      "id": "12a661cb",
      "metadata": {
        "colab": {
          "base_uri": "https://localhost:8080/",
          "height": 408
        },
        "id": "12a661cb",
        "outputId": "b8e110fe-2573-4b9d-ec4f-c68efec983dd"
      },
      "outputs": [
        {
          "output_type": "stream",
          "name": "stderr",
          "text": [
            "/usr/local/lib/python3.11/dist-packages/keras/src/layers/convolutional/base_conv.py:107: UserWarning: Do not pass an `input_shape`/`input_dim` argument to a layer. When using Sequential models, prefer using an `Input(shape)` object as the first layer in the model instead.\n",
            "  super().__init__(activity_regularizer=activity_regularizer, **kwargs)\n"
          ]
        },
        {
          "output_type": "display_data",
          "data": {
            "text/plain": [
              "\u001b[1mModel: \"sequential_1\"\u001b[0m\n"
            ],
            "text/html": [
              "<pre style=\"white-space:pre;overflow-x:auto;line-height:normal;font-family:Menlo,'DejaVu Sans Mono',consolas,'Courier New',monospace\"><span style=\"font-weight: bold\">Model: \"sequential_1\"</span>\n",
              "</pre>\n"
            ]
          },
          "metadata": {}
        },
        {
          "output_type": "display_data",
          "data": {
            "text/plain": [
              "┏━━━━━━━━━━━━━━━━━━━━━━━━━━━━━━━━━┳━━━━━━━━━━━━━━━━━━━━━━━━┳━━━━━━━━━━━━━━━┓\n",
              "┃\u001b[1m \u001b[0m\u001b[1mLayer (type)                   \u001b[0m\u001b[1m \u001b[0m┃\u001b[1m \u001b[0m\u001b[1mOutput Shape          \u001b[0m\u001b[1m \u001b[0m┃\u001b[1m \u001b[0m\u001b[1m      Param #\u001b[0m\u001b[1m \u001b[0m┃\n",
              "┡━━━━━━━━━━━━━━━━━━━━━━━━━━━━━━━━━╇━━━━━━━━━━━━━━━━━━━━━━━━╇━━━━━━━━━━━━━━━┩\n",
              "│ conv2d_2 (\u001b[38;5;33mConv2D\u001b[0m)               │ (\u001b[38;5;45mNone\u001b[0m, \u001b[38;5;34m26\u001b[0m, \u001b[38;5;34m26\u001b[0m, \u001b[38;5;34m32\u001b[0m)     │           \u001b[38;5;34m320\u001b[0m │\n",
              "├─────────────────────────────────┼────────────────────────┼───────────────┤\n",
              "│ max_pooling2d_2 (\u001b[38;5;33mMaxPooling2D\u001b[0m)  │ (\u001b[38;5;45mNone\u001b[0m, \u001b[38;5;34m13\u001b[0m, \u001b[38;5;34m13\u001b[0m, \u001b[38;5;34m32\u001b[0m)     │             \u001b[38;5;34m0\u001b[0m │\n",
              "├─────────────────────────────────┼────────────────────────┼───────────────┤\n",
              "│ conv2d_3 (\u001b[38;5;33mConv2D\u001b[0m)               │ (\u001b[38;5;45mNone\u001b[0m, \u001b[38;5;34m11\u001b[0m, \u001b[38;5;34m11\u001b[0m, \u001b[38;5;34m64\u001b[0m)     │        \u001b[38;5;34m18,496\u001b[0m │\n",
              "├─────────────────────────────────┼────────────────────────┼───────────────┤\n",
              "│ max_pooling2d_3 (\u001b[38;5;33mMaxPooling2D\u001b[0m)  │ (\u001b[38;5;45mNone\u001b[0m, \u001b[38;5;34m5\u001b[0m, \u001b[38;5;34m5\u001b[0m, \u001b[38;5;34m64\u001b[0m)       │             \u001b[38;5;34m0\u001b[0m │\n",
              "├─────────────────────────────────┼────────────────────────┼───────────────┤\n",
              "│ flatten_1 (\u001b[38;5;33mFlatten\u001b[0m)             │ (\u001b[38;5;45mNone\u001b[0m, \u001b[38;5;34m1600\u001b[0m)           │             \u001b[38;5;34m0\u001b[0m │\n",
              "├─────────────────────────────────┼────────────────────────┼───────────────┤\n",
              "│ dense_2 (\u001b[38;5;33mDense\u001b[0m)                 │ (\u001b[38;5;45mNone\u001b[0m, \u001b[38;5;34m64\u001b[0m)             │       \u001b[38;5;34m102,464\u001b[0m │\n",
              "├─────────────────────────────────┼────────────────────────┼───────────────┤\n",
              "│ dense_3 (\u001b[38;5;33mDense\u001b[0m)                 │ (\u001b[38;5;45mNone\u001b[0m, \u001b[38;5;34m10\u001b[0m)             │           \u001b[38;5;34m650\u001b[0m │\n",
              "└─────────────────────────────────┴────────────────────────┴───────────────┘\n"
            ],
            "text/html": [
              "<pre style=\"white-space:pre;overflow-x:auto;line-height:normal;font-family:Menlo,'DejaVu Sans Mono',consolas,'Courier New',monospace\">┏━━━━━━━━━━━━━━━━━━━━━━━━━━━━━━━━━┳━━━━━━━━━━━━━━━━━━━━━━━━┳━━━━━━━━━━━━━━━┓\n",
              "┃<span style=\"font-weight: bold\"> Layer (type)                    </span>┃<span style=\"font-weight: bold\"> Output Shape           </span>┃<span style=\"font-weight: bold\">       Param # </span>┃\n",
              "┡━━━━━━━━━━━━━━━━━━━━━━━━━━━━━━━━━╇━━━━━━━━━━━━━━━━━━━━━━━━╇━━━━━━━━━━━━━━━┩\n",
              "│ conv2d_2 (<span style=\"color: #0087ff; text-decoration-color: #0087ff\">Conv2D</span>)               │ (<span style=\"color: #00d7ff; text-decoration-color: #00d7ff\">None</span>, <span style=\"color: #00af00; text-decoration-color: #00af00\">26</span>, <span style=\"color: #00af00; text-decoration-color: #00af00\">26</span>, <span style=\"color: #00af00; text-decoration-color: #00af00\">32</span>)     │           <span style=\"color: #00af00; text-decoration-color: #00af00\">320</span> │\n",
              "├─────────────────────────────────┼────────────────────────┼───────────────┤\n",
              "│ max_pooling2d_2 (<span style=\"color: #0087ff; text-decoration-color: #0087ff\">MaxPooling2D</span>)  │ (<span style=\"color: #00d7ff; text-decoration-color: #00d7ff\">None</span>, <span style=\"color: #00af00; text-decoration-color: #00af00\">13</span>, <span style=\"color: #00af00; text-decoration-color: #00af00\">13</span>, <span style=\"color: #00af00; text-decoration-color: #00af00\">32</span>)     │             <span style=\"color: #00af00; text-decoration-color: #00af00\">0</span> │\n",
              "├─────────────────────────────────┼────────────────────────┼───────────────┤\n",
              "│ conv2d_3 (<span style=\"color: #0087ff; text-decoration-color: #0087ff\">Conv2D</span>)               │ (<span style=\"color: #00d7ff; text-decoration-color: #00d7ff\">None</span>, <span style=\"color: #00af00; text-decoration-color: #00af00\">11</span>, <span style=\"color: #00af00; text-decoration-color: #00af00\">11</span>, <span style=\"color: #00af00; text-decoration-color: #00af00\">64</span>)     │        <span style=\"color: #00af00; text-decoration-color: #00af00\">18,496</span> │\n",
              "├─────────────────────────────────┼────────────────────────┼───────────────┤\n",
              "│ max_pooling2d_3 (<span style=\"color: #0087ff; text-decoration-color: #0087ff\">MaxPooling2D</span>)  │ (<span style=\"color: #00d7ff; text-decoration-color: #00d7ff\">None</span>, <span style=\"color: #00af00; text-decoration-color: #00af00\">5</span>, <span style=\"color: #00af00; text-decoration-color: #00af00\">5</span>, <span style=\"color: #00af00; text-decoration-color: #00af00\">64</span>)       │             <span style=\"color: #00af00; text-decoration-color: #00af00\">0</span> │\n",
              "├─────────────────────────────────┼────────────────────────┼───────────────┤\n",
              "│ flatten_1 (<span style=\"color: #0087ff; text-decoration-color: #0087ff\">Flatten</span>)             │ (<span style=\"color: #00d7ff; text-decoration-color: #00d7ff\">None</span>, <span style=\"color: #00af00; text-decoration-color: #00af00\">1600</span>)           │             <span style=\"color: #00af00; text-decoration-color: #00af00\">0</span> │\n",
              "├─────────────────────────────────┼────────────────────────┼───────────────┤\n",
              "│ dense_2 (<span style=\"color: #0087ff; text-decoration-color: #0087ff\">Dense</span>)                 │ (<span style=\"color: #00d7ff; text-decoration-color: #00d7ff\">None</span>, <span style=\"color: #00af00; text-decoration-color: #00af00\">64</span>)             │       <span style=\"color: #00af00; text-decoration-color: #00af00\">102,464</span> │\n",
              "├─────────────────────────────────┼────────────────────────┼───────────────┤\n",
              "│ dense_3 (<span style=\"color: #0087ff; text-decoration-color: #0087ff\">Dense</span>)                 │ (<span style=\"color: #00d7ff; text-decoration-color: #00d7ff\">None</span>, <span style=\"color: #00af00; text-decoration-color: #00af00\">10</span>)             │           <span style=\"color: #00af00; text-decoration-color: #00af00\">650</span> │\n",
              "└─────────────────────────────────┴────────────────────────┴───────────────┘\n",
              "</pre>\n"
            ]
          },
          "metadata": {}
        },
        {
          "output_type": "display_data",
          "data": {
            "text/plain": [
              "\u001b[1m Total params: \u001b[0m\u001b[38;5;34m121,930\u001b[0m (476.29 KB)\n"
            ],
            "text/html": [
              "<pre style=\"white-space:pre;overflow-x:auto;line-height:normal;font-family:Menlo,'DejaVu Sans Mono',consolas,'Courier New',monospace\"><span style=\"font-weight: bold\"> Total params: </span><span style=\"color: #00af00; text-decoration-color: #00af00\">121,930</span> (476.29 KB)\n",
              "</pre>\n"
            ]
          },
          "metadata": {}
        },
        {
          "output_type": "display_data",
          "data": {
            "text/plain": [
              "\u001b[1m Trainable params: \u001b[0m\u001b[38;5;34m121,930\u001b[0m (476.29 KB)\n"
            ],
            "text/html": [
              "<pre style=\"white-space:pre;overflow-x:auto;line-height:normal;font-family:Menlo,'DejaVu Sans Mono',consolas,'Courier New',monospace\"><span style=\"font-weight: bold\"> Trainable params: </span><span style=\"color: #00af00; text-decoration-color: #00af00\">121,930</span> (476.29 KB)\n",
              "</pre>\n"
            ]
          },
          "metadata": {}
        },
        {
          "output_type": "display_data",
          "data": {
            "text/plain": [
              "\u001b[1m Non-trainable params: \u001b[0m\u001b[38;5;34m0\u001b[0m (0.00 B)\n"
            ],
            "text/html": [
              "<pre style=\"white-space:pre;overflow-x:auto;line-height:normal;font-family:Menlo,'DejaVu Sans Mono',consolas,'Courier New',monospace\"><span style=\"font-weight: bold\"> Non-trainable params: </span><span style=\"color: #00af00; text-decoration-color: #00af00\">0</span> (0.00 B)\n",
              "</pre>\n"
            ]
          },
          "metadata": {}
        }
      ],
      "source": [
        "from tensorflow.keras import layers, models\n",
        "\n",
        "model = models.Sequential([\n",
        "    # Convolutional layer: learn 32 filters (3×3) to detect local patterns, ReLU activation for non-linearity\n",
        "    layers.Conv2D(32, (3, 3), activation='relu', input_shape=(28, 28, 1)),\n",
        "\n",
        "    # Max‐Pooling layer: downsample by a factor of 2 to reduce spatial dimensions and control overfitting\n",
        "    layers.MaxPooling2D((2, 2)),\n",
        "\n",
        "    # Second convolutional layer: learn 64 filters (3×3) for more complex feature extraction, ReLU activation\n",
        "    layers.Conv2D(64, (3, 3), activation='relu'),\n",
        "\n",
        "    # Second Max‐Pooling layer: further downsample feature maps, retaining most salient information\n",
        "    layers.MaxPooling2D((2, 2)),\n",
        "\n",
        "    # Flatten layer: convert the 2D feature maps into a 1D feature vector for the dense layers\n",
        "    layers.Flatten(),\n",
        "\n",
        "    # Dense (fully‐connected) layer: 64 neurons to learn global combinations of features, ReLU activation\n",
        "    layers.Dense(64, activation='relu'),\n",
        "\n",
        "    # Output layer: 10 neurons (one per digit class 0–9) with softmax activation to produce probability distribution\n",
        "    layers.Dense(10, activation='softmax')\n",
        "])\n",
        "\n",
        "model.summary()\n"
      ]
    },
    {
      "cell_type": "markdown",
      "source": [
        "\n",
        "### Layer-by-Layer Breakdown\n",
        "\n",
        "1. **Conv2D (conv2d_2)**  \n",
        "   - **Output Shape**: `(None, 26, 26, 32)`  \n",
        "     - Input 28×28 → with a 3×3 kernel and no padding → 26×26 feature maps  \n",
        "     - 32 different filters  \n",
        "   - **Params**: 320 = (3×3 kernel × 1 input channel × 32 filters) + 32 biases  \n",
        "\n",
        "2. **MaxPooling2D (max_pooling2d_2)**  \n",
        "   - **Output Shape**: `(None, 13, 13, 32)`  \n",
        "     - Downsamples by factor of 2 (26→13)  \n",
        "   - **Params**: 0 (pooling has no learnable weights)  \n",
        "\n",
        "3. **Conv2D (conv2d_3)**  \n",
        "   - **Output Shape**: `(None, 11, 11, 64)`  \n",
        "     - Input 13×13 → 3×3 kernel → 11×11 feature maps  \n",
        "     - 64 filters  \n",
        "   - **Params**: 18,496 = (3×3 × 32 input channels × 64 filters) + 64 biases  \n",
        "\n",
        "4. **MaxPooling2D (max_pooling2d_3)**  \n",
        "   - **Output Shape**: `(None, 5, 5, 64)`  \n",
        "     - Downsamples 11→5 (floor division)  \n",
        "   - **Params**: 0  \n",
        "\n",
        "5. **Flatten (flatten_1)**  \n",
        "   - **Output Shape**: `(None, 1600)`  \n",
        "     - Flattens 5×5×64 → 1,600-dimensional vector  \n",
        "   - **Params**: 0  \n",
        "\n",
        "6. **Dense (dense_2)**  \n",
        "   - **Output Shape**: `(None, 64)`  \n",
        "   - **Params**: 102,464 = (1,600 inputs × 64 units) + 64 biases  \n",
        "\n",
        "7. **Dense (dense_3)**  \n",
        "   - **Output Shape**: `(None, 10)`  \n",
        "     - Final classification into 10 digit classes  \n",
        "   - **Params**: 650 = (64 inputs × 10 units) + 10 biases  \n",
        "\n",
        "---\n",
        "\n",
        "### ⚖️ Total Parameters\n",
        "\n",
        "- **Total params**: 121,930  \n",
        "- **Trainable params**: 121,930 (all layers are updated during training)  \n",
        "- **Non-trainable params**: 0  \n",
        "\n",
        "This summary shows how the spatial dimensions shrink and the feature depth grows through the network, and how most parameters reside in the fully connected layer.  \n"
      ],
      "metadata": {
        "id": "I58dSKlb836h"
      },
      "id": "I58dSKlb836h"
    },
    {
      "cell_type": "markdown",
      "id": "3641a681",
      "metadata": {
        "id": "3641a681"
      },
      "source": [
        "## ⚙️ Compile the Model\n",
        "\n",
        "Optimizer: how the weights are updated (e.g., Adam, SGD, RMSprop)\n",
        "\n",
        "Loss: how the error is measured (see below)\n",
        "\n",
        "Metrics: what performance indicators to track (e.g., accuracy, MAE)\n",
        "\n",
        "### Choosing the Right Loss Function\n",
        "\n",
        "\n",
        "| Loss Function                     | Use Case                                                                 |\n",
        "|-----------------------------------|--------------------------------------------------------------------------|\n",
        "| **binary_crossentropy**           | Binary classification (2 classes, labels 0 or 1)                         |\n",
        "| **categorical_crossentropy**      | Multi-class classification with **one-hot encoded** labels               |\n",
        "| **sparse_categorical_crossentropy** | Multi-class classification with **integer** labels (no one-hot needed)    |\n",
        "| **mean_squared_error** (MSE)      | Regression tasks (predict continuous values)                             |\n",
        "| **mean_absolute_error** (MAE)     | Regression, more robust to outliers                           "
      ]
    },
    {
      "cell_type": "code",
      "execution_count": null,
      "id": "d9cd4cf6",
      "metadata": {
        "id": "d9cd4cf6"
      },
      "outputs": [],
      "source": [
        "model.compile(optimizer='adam',\n",
        "              loss='sparse_categorical_crossentropy',\n",
        "              metrics=['accuracy'])\n"
      ]
    },
    {
      "cell_type": "markdown",
      "id": "597cac05",
      "metadata": {
        "id": "597cac05"
      },
      "source": [
        "## 🏋️ Train the Model"
      ]
    },
    {
      "cell_type": "code",
      "execution_count": null,
      "id": "06830444",
      "metadata": {
        "colab": {
          "base_uri": "https://localhost:8080/"
        },
        "id": "06830444",
        "outputId": "40e5789f-66a9-467e-89a7-6089eb5d00f5"
      },
      "outputs": [
        {
          "output_type": "stream",
          "name": "stdout",
          "text": [
            "Epoch 1/3\n",
            "\u001b[1m1500/1500\u001b[0m \u001b[32m━━━━━━━━━━━━━━━━━━━━\u001b[0m\u001b[37m\u001b[0m \u001b[1m48s\u001b[0m 31ms/step - accuracy: 0.8828 - loss: 0.3915 - val_accuracy: 0.9790 - val_loss: 0.0675\n",
            "Epoch 2/3\n",
            "\u001b[1m1500/1500\u001b[0m \u001b[32m━━━━━━━━━━━━━━━━━━━━\u001b[0m\u001b[37m\u001b[0m \u001b[1m81s\u001b[0m 30ms/step - accuracy: 0.9818 - loss: 0.0562 - val_accuracy: 0.9862 - val_loss: 0.0456\n",
            "Epoch 3/3\n",
            "\u001b[1m1500/1500\u001b[0m \u001b[32m━━━━━━━━━━━━━━━━━━━━\u001b[0m\u001b[37m\u001b[0m \u001b[1m45s\u001b[0m 30ms/step - accuracy: 0.9895 - loss: 0.0342 - val_accuracy: 0.9883 - val_loss: 0.0402\n"
          ]
        }
      ],
      "source": [
        "history = model.fit(x_train, y_train,\n",
        "                    epochs=3,\n",
        "                    batch_size=32,\n",
        "                    validation_split=0.2,\n",
        "                    verbose=1)\n"
      ]
    },
    {
      "cell_type": "markdown",
      "id": "08ac131b",
      "metadata": {
        "id": "08ac131b"
      },
      "source": [
        "## ✅ Evaluate on Test Set"
      ]
    },
    {
      "cell_type": "code",
      "execution_count": null,
      "id": "2974d6cc",
      "metadata": {
        "colab": {
          "base_uri": "https://localhost:8080/"
        },
        "id": "2974d6cc",
        "outputId": "a93be212-70c7-4bbe-a8f9-bd4369fe2695"
      },
      "outputs": [
        {
          "output_type": "stream",
          "name": "stdout",
          "text": [
            "\u001b[1m313/313\u001b[0m \u001b[32m━━━━━━━━━━━━━━━━━━━━\u001b[0m\u001b[37m\u001b[0m \u001b[1m3s\u001b[0m 8ms/step - accuracy: 0.9870 - loss: 0.0376\n",
            "Test accuracy: 0.9894\n"
          ]
        }
      ],
      "source": [
        "test_loss, test_acc = model.evaluate(x_test, y_test)\n",
        "print(f\"Test accuracy: {test_acc:.4f}\")\n"
      ]
    },
    {
      "cell_type": "markdown",
      "id": "2646afd6",
      "metadata": {
        "id": "2646afd6"
      },
      "source": [
        "## 📈 Training and Validation Accuracy"
      ]
    },
    {
      "cell_type": "code",
      "execution_count": null,
      "id": "c0d0d41f",
      "metadata": {
        "colab": {
          "base_uri": "https://localhost:8080/",
          "height": 472
        },
        "id": "c0d0d41f",
        "outputId": "40495622-3819-4c74-c43e-dcaee014390d"
      },
      "outputs": [
        {
          "output_type": "display_data",
          "data": {
            "text/plain": [
              "<Figure size 640x480 with 1 Axes>"
            ],
            "image/png": "[encoded data removed]"
          },
          "metadata": {}
        }
      ],
      "source": [
        "plt.plot(history.history['accuracy'], label='Train Accuracy')\n",
        "plt.plot(history.history['val_accuracy'], label='Validation Accuracy')\n",
        "plt.xlabel('Epoch')\n",
        "plt.ylabel('Accuracy')\n",
        "plt.title('Training vs Validation Accuracy')\n",
        "plt.legend()\n",
        "plt.grid(True)\n",
        "plt.show()\n"
      ]
    },
    {
      "cell_type": "markdown",
      "source": [
        "## 🎯 Visualize Model Predictions on Test Images"
      ],
      "metadata": {
        "id": "9YzNyIuH5UIo"
      },
      "id": "9YzNyIuH5UIo"
    },
    {
      "cell_type": "code",
      "source": [
        "# Display first 9 test images with model predictions\n",
        "k=55\n",
        "preds = model.predict(x_test[0:9])##(x_test[k:k+9])\n",
        "preds_classes = np.argmax(preds, axis=1)\n",
        "\n",
        "plt.figure(figsize=(6,6))\n",
        "for i in range(9):\n",
        "    plt.subplot(3,3,i+1)\n",
        "    plt.imshow(x_test[i].squeeze(), cmap='gray')\n",
        "    plt.title(f\"True: {y_test[i]} | Pred: {preds_classes[i]}\")\n",
        "    plt.axis('off')\n",
        "plt.tight_layout()\n",
        "plt.show()"
      ],
      "metadata": {
        "colab": {
          "base_uri": "https://localhost:8080/",
          "height": 624
        },
        "id": "nJ9eL1bC49bC",
        "outputId": "9ac25c6f-6b93-48c4-fb61-ed7746b15938"
      },
      "id": "nJ9eL1bC49bC",
      "execution_count": null,
      "outputs": [
        {
          "output_type": "stream",
          "name": "stdout",
          "text": [
            "\u001b[1m1/1\u001b[0m \u001b[32m━━━━━━━━━━━━━━━━━━━━\u001b[0m\u001b[37m\u001b[0m \u001b[1m0s\u001b[0m 60ms/step\n"
          ]
        },
        {
          "output_type": "display_data",
          "data": {
            "text/plain": [
              "<Figure size 600x600 with 9 Axes>"
            ],
            "image/png": "[encoded data removed]"
          },
          "metadata": {}
        }
      ]
    },
    {
      "cell_type": "markdown",
      "id": "4d75e307",
      "metadata": {
        "id": "4d75e307"
      },
      "source": [
        "# 🧪 Student Task\n",
        "\n",
        "Try modifying the CNN model architecture or training settings. Here are some ideas:\n",
        "\n",
        "✅ **Model Modifications**:\n",
        "- Add a third `Conv2D` layer\n",
        "- Try using a different number of filters (e.g., 16, 128)\n",
        "- Try `Dropout()` after the dense layer to reduce overfitting\n",
        "\n",
        "✅ **Training Modifications**:\n",
        "- Train for more epochs (e.g., 10 instead of 3)\n",
        "- Change the optimizer (e.g., `SGD` instead of `Adam`)\n",
        "- Try different activation functions (e.g., `tanh` instead of `relu`)\n",
        "\n",
        "Then answer:\n",
        "- What changes improved accuracy?\n",
        "- What did not help?\n",
        "- Why do you think that happened?\n",
        "\n",
        "📝 **Document your experiments and observations in new cells below.**\n"
      ]
    }
  ],
  "metadata": {
    "kernelspec": {
      "display_name": "Python 3",
      "name": "python3"
    },
    "colab": {
      "provenance": []
    }
  },
  "nbformat": 4,
  "nbformat_minor": 5
}