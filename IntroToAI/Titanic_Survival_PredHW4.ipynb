{
 "cells": [
  {
   "cell_type": "markdown",
   "id": "f3e07d80",
   "metadata": {},
   "source": [
    "# COMP 351: Homework Assignment 4\n",
    "### By Shreya P. "
   ]
  },
  {
   "cell_type": "code",
   "execution_count": 178,
   "id": "bcf1e964",
   "metadata": {},
   "outputs": [],
   "source": [
    "import pandas as pd #import pandas\n",
    "import numpy as np\n",
    "import matplotlib.pyplot as plt\n",
    "\n",
    "from sklearn.preprocessing import StandardScaler\n",
    "from sklearn.model_selection import train_test_split\n",
    "from sklearn.linear_model import LogisticRegression\n",
    "from sklearn.neighbors import KNeighborsClassifier\n",
    "from sklearn.tree import DecisionTreeClassifier\n",
    "from sklearn.ensemble import RandomForestClassifier\n",
    "\n",
    "from sklearn.model_selection import cross_val_score, KFold\n",
    "from sklearn.model_selection import train_test_split"
   ]
  },
  {
   "cell_type": "markdown",
   "id": "2f12cb6c",
   "metadata": {},
   "source": [
    "###### Load the file: "
   ]
  },
  {
   "cell_type": "code",
   "execution_count": 160,
   "id": "289f1ec3",
   "metadata": {},
   "outputs": [
    {
     "data": {
      "text/html": [
       "<div>\n",
       "<style scoped>\n",
       "    .dataframe tbody tr th:only-of-type {\n",
       "        vertical-align: middle;\n",
       "    }\n",
       "\n",
       "    .dataframe tbody tr th {\n",
       "        vertical-align: top;\n",
       "    }\n",
       "\n",
       "    .dataframe thead th {\n",
       "        text-align: right;\n",
       "    }\n",
       "</style>\n",
       "<table border=\"1\" class=\"dataframe\">\n",
       "  <thead>\n",
       "    <tr style=\"text-align: right;\">\n",
       "      <th></th>\n",
       "      <th>Survived</th>\n",
       "      <th>Pclass</th>\n",
       "      <th>Name</th>\n",
       "      <th>Sex</th>\n",
       "      <th>Age</th>\n",
       "      <th>SibSp</th>\n",
       "      <th>Parch</th>\n",
       "      <th>Ticket</th>\n",
       "      <th>Fare</th>\n",
       "      <th>Cabin</th>\n",
       "      <th>Embarked</th>\n",
       "    </tr>\n",
       "    <tr>\n",
       "      <th>PassengerId</th>\n",
       "      <th></th>\n",
       "      <th></th>\n",
       "      <th></th>\n",
       "      <th></th>\n",
       "      <th></th>\n",
       "      <th></th>\n",
       "      <th></th>\n",
       "      <th></th>\n",
       "      <th></th>\n",
       "      <th></th>\n",
       "      <th></th>\n",
       "    </tr>\n",
       "  </thead>\n",
       "  <tbody>\n",
       "    <tr>\n",
       "      <th>1</th>\n",
       "      <td>0</td>\n",
       "      <td>3</td>\n",
       "      <td>Braund, Mr. Owen Harris</td>\n",
       "      <td>male</td>\n",
       "      <td>22.0</td>\n",
       "      <td>1</td>\n",
       "      <td>0</td>\n",
       "      <td>A/5 21171</td>\n",
       "      <td>7.2500</td>\n",
       "      <td>NaN</td>\n",
       "      <td>S</td>\n",
       "    </tr>\n",
       "    <tr>\n",
       "      <th>2</th>\n",
       "      <td>1</td>\n",
       "      <td>1</td>\n",
       "      <td>Cumings, Mrs. John Bradley (Florence Briggs Th...</td>\n",
       "      <td>female</td>\n",
       "      <td>38.0</td>\n",
       "      <td>1</td>\n",
       "      <td>0</td>\n",
       "      <td>PC 17599</td>\n",
       "      <td>71.2833</td>\n",
       "      <td>C85</td>\n",
       "      <td>C</td>\n",
       "    </tr>\n",
       "    <tr>\n",
       "      <th>3</th>\n",
       "      <td>1</td>\n",
       "      <td>3</td>\n",
       "      <td>Heikkinen, Miss. Laina</td>\n",
       "      <td>female</td>\n",
       "      <td>26.0</td>\n",
       "      <td>0</td>\n",
       "      <td>0</td>\n",
       "      <td>STON/O2. 3101282</td>\n",
       "      <td>7.9250</td>\n",
       "      <td>NaN</td>\n",
       "      <td>S</td>\n",
       "    </tr>\n",
       "    <tr>\n",
       "      <th>4</th>\n",
       "      <td>1</td>\n",
       "      <td>1</td>\n",
       "      <td>Futrelle, Mrs. Jacques Heath (Lily May Peel)</td>\n",
       "      <td>female</td>\n",
       "      <td>35.0</td>\n",
       "      <td>1</td>\n",
       "      <td>0</td>\n",
       "      <td>113803</td>\n",
       "      <td>53.1000</td>\n",
       "      <td>C123</td>\n",
       "      <td>S</td>\n",
       "    </tr>\n",
       "    <tr>\n",
       "      <th>5</th>\n",
       "      <td>0</td>\n",
       "      <td>3</td>\n",
       "      <td>Allen, Mr. William Henry</td>\n",
       "      <td>male</td>\n",
       "      <td>35.0</td>\n",
       "      <td>0</td>\n",
       "      <td>0</td>\n",
       "      <td>373450</td>\n",
       "      <td>8.0500</td>\n",
       "      <td>NaN</td>\n",
       "      <td>S</td>\n",
       "    </tr>\n",
       "  </tbody>\n",
       "</table>\n",
       "</div>"
      ],
      "text/plain": [
       "             Survived  Pclass  \\\n",
       "PassengerId                     \n",
       "1                   0       3   \n",
       "2                   1       1   \n",
       "3                   1       3   \n",
       "4                   1       1   \n",
       "5                   0       3   \n",
       "\n",
       "                                                          Name     Sex   Age  \\\n",
       "PassengerId                                                                    \n",
       "1                                      Braund, Mr. Owen Harris    male  22.0   \n",
       "2            Cumings, Mrs. John Bradley (Florence Briggs Th...  female  38.0   \n",
       "3                                       Heikkinen, Miss. Laina  female  26.0   \n",
       "4                 Futrelle, Mrs. Jacques Heath (Lily May Peel)  female  35.0   \n",
       "5                                     Allen, Mr. William Henry    male  35.0   \n",
       "\n",
       "             SibSp  Parch            Ticket     Fare Cabin Embarked  \n",
       "PassengerId                                                          \n",
       "1                1      0         A/5 21171   7.2500   NaN        S  \n",
       "2                1      0          PC 17599  71.2833   C85        C  \n",
       "3                0      0  STON/O2. 3101282   7.9250   NaN        S  \n",
       "4                1      0            113803  53.1000  C123        S  \n",
       "5                0      0            373450   8.0500   NaN        S  "
      ]
     },
     "execution_count": 160,
     "metadata": {},
     "output_type": "execute_result"
    }
   ],
   "source": [
    "#read CSV file\n",
    "df = pd.read_csv(\"titanic.csv\", index_col=0)\n",
    "\n",
    "#display the first 5 rows\n",
    "df.head()"
   ]
  },
  {
   "cell_type": "markdown",
   "id": "c202c29e",
   "metadata": {},
   "source": [
    "###### Exploring the Dataset"
   ]
  },
  {
   "cell_type": "code",
   "execution_count": 161,
   "id": "866087ec",
   "metadata": {},
   "outputs": [
    {
     "data": {
      "text/html": [
       "<div>\n",
       "<style scoped>\n",
       "    .dataframe tbody tr th:only-of-type {\n",
       "        vertical-align: middle;\n",
       "    }\n",
       "\n",
       "    .dataframe tbody tr th {\n",
       "        vertical-align: top;\n",
       "    }\n",
       "\n",
       "    .dataframe thead th {\n",
       "        text-align: right;\n",
       "    }\n",
       "</style>\n",
       "<table border=\"1\" class=\"dataframe\">\n",
       "  <thead>\n",
       "    <tr style=\"text-align: right;\">\n",
       "      <th></th>\n",
       "      <th>Survived</th>\n",
       "      <th>Pclass</th>\n",
       "      <th>Name</th>\n",
       "      <th>Sex</th>\n",
       "      <th>Age</th>\n",
       "      <th>SibSp</th>\n",
       "      <th>Parch</th>\n",
       "      <th>Ticket</th>\n",
       "      <th>Fare</th>\n",
       "      <th>Cabin</th>\n",
       "      <th>Embarked</th>\n",
       "    </tr>\n",
       "    <tr>\n",
       "      <th>PassengerId</th>\n",
       "      <th></th>\n",
       "      <th></th>\n",
       "      <th></th>\n",
       "      <th></th>\n",
       "      <th></th>\n",
       "      <th></th>\n",
       "      <th></th>\n",
       "      <th></th>\n",
       "      <th></th>\n",
       "      <th></th>\n",
       "      <th></th>\n",
       "    </tr>\n",
       "  </thead>\n",
       "  <tbody>\n",
       "    <tr>\n",
       "      <th>887</th>\n",
       "      <td>0</td>\n",
       "      <td>2</td>\n",
       "      <td>Montvila, Rev. Juozas</td>\n",
       "      <td>male</td>\n",
       "      <td>27.0</td>\n",
       "      <td>0</td>\n",
       "      <td>0</td>\n",
       "      <td>211536</td>\n",
       "      <td>13.00</td>\n",
       "      <td>NaN</td>\n",
       "      <td>S</td>\n",
       "    </tr>\n",
       "    <tr>\n",
       "      <th>888</th>\n",
       "      <td>1</td>\n",
       "      <td>1</td>\n",
       "      <td>Graham, Miss. Margaret Edith</td>\n",
       "      <td>female</td>\n",
       "      <td>19.0</td>\n",
       "      <td>0</td>\n",
       "      <td>0</td>\n",
       "      <td>112053</td>\n",
       "      <td>30.00</td>\n",
       "      <td>B42</td>\n",
       "      <td>S</td>\n",
       "    </tr>\n",
       "    <tr>\n",
       "      <th>889</th>\n",
       "      <td>0</td>\n",
       "      <td>3</td>\n",
       "      <td>Johnston, Miss. Catherine Helen \"Carrie\"</td>\n",
       "      <td>female</td>\n",
       "      <td>NaN</td>\n",
       "      <td>1</td>\n",
       "      <td>2</td>\n",
       "      <td>W./C. 6607</td>\n",
       "      <td>23.45</td>\n",
       "      <td>NaN</td>\n",
       "      <td>S</td>\n",
       "    </tr>\n",
       "    <tr>\n",
       "      <th>890</th>\n",
       "      <td>1</td>\n",
       "      <td>1</td>\n",
       "      <td>Behr, Mr. Karl Howell</td>\n",
       "      <td>male</td>\n",
       "      <td>26.0</td>\n",
       "      <td>0</td>\n",
       "      <td>0</td>\n",
       "      <td>111369</td>\n",
       "      <td>30.00</td>\n",
       "      <td>C148</td>\n",
       "      <td>C</td>\n",
       "    </tr>\n",
       "    <tr>\n",
       "      <th>891</th>\n",
       "      <td>0</td>\n",
       "      <td>3</td>\n",
       "      <td>Dooley, Mr. Patrick</td>\n",
       "      <td>male</td>\n",
       "      <td>32.0</td>\n",
       "      <td>0</td>\n",
       "      <td>0</td>\n",
       "      <td>370376</td>\n",
       "      <td>7.75</td>\n",
       "      <td>NaN</td>\n",
       "      <td>Q</td>\n",
       "    </tr>\n",
       "  </tbody>\n",
       "</table>\n",
       "</div>"
      ],
      "text/plain": [
       "             Survived  Pclass                                      Name  \\\n",
       "PassengerId                                                               \n",
       "887                 0       2                     Montvila, Rev. Juozas   \n",
       "888                 1       1              Graham, Miss. Margaret Edith   \n",
       "889                 0       3  Johnston, Miss. Catherine Helen \"Carrie\"   \n",
       "890                 1       1                     Behr, Mr. Karl Howell   \n",
       "891                 0       3                       Dooley, Mr. Patrick   \n",
       "\n",
       "                Sex   Age  SibSp  Parch      Ticket   Fare Cabin Embarked  \n",
       "PassengerId                                                                \n",
       "887            male  27.0      0      0      211536  13.00   NaN        S  \n",
       "888          female  19.0      0      0      112053  30.00   B42        S  \n",
       "889          female   NaN      1      2  W./C. 6607  23.45   NaN        S  \n",
       "890            male  26.0      0      0      111369  30.00  C148        C  \n",
       "891            male  32.0      0      0      370376   7.75   NaN        Q  "
      ]
     },
     "execution_count": 161,
     "metadata": {},
     "output_type": "execute_result"
    }
   ],
   "source": [
    "#display the last 5 rows\n",
    "df.tail()"
   ]
  },
  {
   "cell_type": "code",
   "execution_count": 162,
   "id": "17a0e158",
   "metadata": {},
   "outputs": [
    {
     "data": {
      "text/plain": [
       "Index(['Survived', 'Pclass', 'Name', 'Sex', 'Age', 'SibSp', 'Parch', 'Ticket',\n",
       "       'Fare', 'Cabin', 'Embarked'],\n",
       "      dtype='object')"
      ]
     },
     "execution_count": 162,
     "metadata": {},
     "output_type": "execute_result"
    }
   ],
   "source": [
    "df.columns"
   ]
  },
  {
   "cell_type": "code",
   "execution_count": 163,
   "id": "3be08f00",
   "metadata": {},
   "outputs": [],
   "source": [
    "#df = df.drop(columns=[\"Pclass\",\"Name\", \"Ticket\", \"Cabin\"]) #drop extra cols \n",
    "#df = df.drop(columns=['Name', 'Ticket', 'Cabin', 'PassengerId'])\n",
    "df = df.drop(columns=['Name', 'Ticket', 'Cabin'])"
   ]
  },
  {
   "cell_type": "code",
   "execution_count": 164,
   "id": "21be5ae6",
   "metadata": {},
   "outputs": [],
   "source": [
    "# Fill missing values\n",
    "df['Age'].fillna(df['Age'].median(), inplace=True)\n",
    "df['Embarked'].fillna(df['Embarked'].mode()[0], inplace=True)\n",
    "\n",
    "# One-hot encode categorical features\n",
    "df = pd.get_dummies(df, columns=['Sex', 'Embarked'], drop_first=True)"
   ]
  },
  {
   "cell_type": "code",
   "execution_count": 165,
   "id": "5549b8c9",
   "metadata": {},
   "outputs": [],
   "source": [
    "# Split features and target\n",
    "X = df.drop('Survived', axis=1)\n",
    "y = df['Survived']\n",
    "\n",
    "# Standardize features\n",
    "scaler = StandardScaler()\n",
    "X_scaled = scaler.fit_transform(X)\n",
    "\n",
    "# Train-test split\n",
    "X_train, X_test, y_train, y_test = train_test_split(X_scaled, y, test_size=0.2, random_state=42)"
   ]
  },
  {
   "cell_type": "code",
   "execution_count": 166,
   "id": "fd36a361",
   "metadata": {},
   "outputs": [
    {
     "data": {
      "text/plain": [
       "(712, 8)"
      ]
     },
     "execution_count": 166,
     "metadata": {},
     "output_type": "execute_result"
    }
   ],
   "source": [
    "X_train.shape"
   ]
  },
  {
   "cell_type": "markdown",
   "id": "cd08bf68",
   "metadata": {},
   "source": [
    "###### Observations"
   ]
  },
  {
   "cell_type": "markdown",
   "id": "c290a0b6",
   "metadata": {},
   "source": [
    "We want to know which columns contributed the most to whether the person survived or not.\n",
    "\n",
    "(Useful) Features of the dataset:\n",
    "- Pclass\n",
    "- Sex\n",
    "- Age\n",
    "- SibSp\n",
    "- Parch\n",
    "- Fare\n",
    "- Embarked\n",
    "\n",
    "Response:\n",
    "y = Survived\n",
    "whether the passenger survived (1) or not (0)\n",
    "\n",
    "What else do we know?\n",
    "Because the response variable is continuous, this is a regression problem. However, it does not make sense to use linear regression here. Since \"Survivial\" is classified as a binary choice, linear regression would not be good for predicting binary outcomes. We want something that looks more like a log graph, hence we will use logarithmic regression.\n",
    "\n",
    "Note: linear regression is good for best fit; logarithmic regression is good for classification."
   ]
  },
  {
   "cell_type": "markdown",
   "id": "d57a2d63",
   "metadata": {},
   "source": [
    "### Train the models"
   ]
  },
  {
   "cell_type": "code",
   "execution_count": 167,
   "id": "bbd0e907",
   "metadata": {},
   "outputs": [],
   "source": [
    "# Setup cross-validation\n",
    "kfold = KFold(n_splits=5, shuffle=True, random_state=42)  #randomize order by shuffle = True"
   ]
  },
  {
   "cell_type": "markdown",
   "id": "49b644c7",
   "metadata": {},
   "source": [
    "#### Logistic Regression Model"
   ]
  },
  {
   "cell_type": "code",
   "execution_count": 168,
   "id": "1fa9ae8b",
   "metadata": {},
   "outputs": [
    {
     "name": "stdout",
     "output_type": "stream",
     "text": [
      "0.8013370158809867\n"
     ]
    }
   ],
   "source": [
    "log_model = LogisticRegression(max_iter=1000)#initialize model\n",
    "# Train and evaluate with cross-validation\n",
    "log_scores = cross_val_score(log_model, X_scaled, y, cv=kfold)\n",
    "print(log_scores.mean())\n",
    "#[0.81005587 0.79775281 0.84269663 0.7752809  0.78089888]"
   ]
  },
  {
   "cell_type": "markdown",
   "id": "f24260e3",
   "metadata": {},
   "source": [
    "#### KNN Model"
   ]
  },
  {
   "cell_type": "code",
   "execution_count": 169,
   "id": "6422397c",
   "metadata": {},
   "outputs": [
    {
     "name": "stdout",
     "output_type": "stream",
     "text": [
      "The best k is 15\n"
     ]
    }
   ],
   "source": [
    "avgScore = 0\n",
    "maxKnn = 0\n",
    "maxK = 1 #meaning k with best Knn Score\n",
    "n = 100\n",
    "for k in range(1,n):\n",
    "    knn = KNeighborsClassifier(n_neighbors=k)\n",
    "    knnScores = cross_val_score(knn, X_scaled, y, cv=kfold)\n",
    "    avgScore += knnScores.mean()\n",
    "    #knn_accuracies.append(knnScores)\n",
    "    #print(f\"KNN (k={k}) Accuracy: {knnScores.mean():.4f}\")\n",
    "    if knnScores.mean() > maxKnn: #if max\n",
    "        maxKnn = knnScores.mean()\n",
    "        maxK = k\n",
    "#print(avgScore/n)\n",
    "#print(maxKnn, maxK)\n",
    "print(\"The best k is\", maxK)"
   ]
  },
  {
   "cell_type": "markdown",
   "id": "9af27320",
   "metadata": {},
   "source": [
    "#### Decision Tree Model"
   ]
  },
  {
   "cell_type": "code",
   "execution_count": 170,
   "id": "0ab0bd76",
   "metadata": {
    "scrolled": true
   },
   "outputs": [
    {
     "name": "stdout",
     "output_type": "stream",
     "text": [
      "The best depth is 6\n"
     ]
    }
   ],
   "source": [
    "#print(\"Tuning Decision Tree max_depth...\")\n",
    "bestDTScore = 0\n",
    "avgDt = 0\n",
    "bestDt = 1\n",
    "for d in range(1, n): #iterates the tree depth\n",
    "    dt = DecisionTreeClassifier(max_depth=d, random_state=42) #vary random_state? \n",
    "    dtScores = cross_val_score(dt, X, y, cv=kfold)\n",
    "    avgDt += dtScores.mean()\n",
    "    if dtScores.mean() > bestDTScore: #if max\n",
    "        bestDTScore = dtScores.mean()\n",
    "        bestDt = d\n",
    "    #print(f\"max_depth = {j}: Accuracy = {dtScores.mean():.4f}\")\n",
    "#print(avgDt/n)#average\n",
    "#print(bestDTScore, bestDt)\n",
    "print(\"The best depth is\", bestDt)"
   ]
  },
  {
   "cell_type": "markdown",
   "id": "18458c04",
   "metadata": {},
   "source": [
    "#### Research Task: Random Forest"
   ]
  },
  {
   "cell_type": "code",
   "execution_count": 171,
   "id": "833b61f9",
   "metadata": {},
   "outputs": [
    {
     "name": "stdout",
     "output_type": "stream",
     "text": [
      "Cross-validated accuracy scores: [0.81005587 0.78089888 0.84831461 0.80898876 0.8258427 ]\n",
      "Mean accuracy: 0.8148\n"
     ]
    }
   ],
   "source": [
    "model = RandomForestClassifier(random_state=42) #model type\n",
    "#n_estimators, max_depth, max_features\n",
    "maxN = 500\n",
    "rfScores = cross_val_score(model, X, y, cv=kfold, scoring='accuracy') #calculate accuracy\n",
    "\n",
    "#Report mean accuracy\n",
    "print(\"Cross-validated accuracy scores:\", rfScores)\n",
    "print(\"Mean accuracy: {:.4f}\".format(np.mean(rfScores)))"
   ]
  },
  {
   "cell_type": "code",
   "execution_count": 172,
   "id": "821e20c3",
   "metadata": {},
   "outputs": [
    {
     "name": "stdout",
     "output_type": "stream",
     "text": [
      "avg: 0.8189883978825357\n",
      "0.8316678174628084 20 5\n"
     ]
    }
   ],
   "source": [
    "bestScore = 0\n",
    "bestN = 1\n",
    "bestD = 1\n",
    "sumScore = 0\n",
    "mCount = 0\n",
    "\n",
    "for nEst in range(20, 100, 20):\n",
    "    for d in range(1, n//4): #n is 100 \n",
    "        model = RandomForestClassifier(n_estimators=n, max_depth=d, random_state=42)\n",
    "        rfScores = cross_val_score(model, X_scaled, y, cv=kfold, scoring='accuracy')\n",
    "        mean = rfScores.mean()\n",
    "        sumScore += mean\n",
    "        mCount += 1 #previously didn't need, but now double loop. \n",
    "        if mean > bestScore:\n",
    "            bestScore = mean\n",
    "            bestN = nEst\n",
    "            bestD = d\n",
    "\n",
    "print(\"avg:\", (sumScore)/mCount)\n",
    "print(bestScore, bestN, bestD) # best accuracy, n value and depth respectively. "
   ]
  },
  {
   "cell_type": "markdown",
   "id": "513a2aed",
   "metadata": {},
   "source": [
    "### Model Comparison"
   ]
  },
  {
   "cell_type": "markdown",
   "id": "d43ff276",
   "metadata": {},
   "source": [
    "##### Calculate the relative accuracies"
   ]
  },
  {
   "cell_type": "code",
   "execution_count": 173,
   "id": "f1ab7d24",
   "metadata": {},
   "outputs": [],
   "source": [
    "models = {\n",
    "    \"Logistic Regression\": LogisticRegression(max_iter=1000),\n",
    "    \"KNN\": KNeighborsClassifier(n_neighbors=maxK),\n",
    "    \"Decision Tree\": DecisionTreeClassifier(max_depth=bestDt, random_state = 42),\n",
    "    \"Random Forest\": RandomForestClassifier(n_estimators=bestN, max_depth=bestD, random_state = 42),\n",
    "}"
   ]
  },
  {
   "cell_type": "code",
   "execution_count": 174,
   "id": "793ee3a7",
   "metadata": {},
   "outputs": [
    {
     "name": "stdout",
     "output_type": "stream",
     "text": [
      "LogisticRegression(max_iter=1000): [0.81005587 0.79775281 0.84269663 0.7752809  0.78089888]\n",
      "0.8013370158809867 \n",
      "\n",
      "KNeighborsClassifier(n_neighbors=15): [0.81005587 0.82022472 0.86516854 0.81460674 0.80337079]\n",
      "0.8226853304877283 \n",
      "\n",
      "DecisionTreeClassifier(max_depth=6, random_state=42): [0.80446927 0.80898876 0.87078652 0.79213483 0.83146067]\n",
      "0.821568012051974 \n",
      "\n",
      "RandomForestClassifier(max_depth=5, n_estimators=20, random_state=42): [0.81005587 0.81460674 0.88764045 0.78651685 0.8258427 ]\n",
      "0.8249325214989642 \n",
      "\n"
     ]
    }
   ],
   "source": [
    "for model in models.values():\n",
    "    scores = cross_val_score(model, X_scaled, y, cv=kfold, scoring='accuracy')\n",
    "    mean = scores.mean()\n",
    "    print(f\"{model}:\", scores)\n",
    "    print(mean, \"\\n\")"
   ]
  },
  {
   "cell_type": "markdown",
   "id": "e0d74bd7",
   "metadata": {},
   "source": [
    "#### Graph the model accuracies: "
   ]
  },
  {
   "cell_type": "code",
   "execution_count": 175,
   "id": "dd595f5a",
   "metadata": {},
   "outputs": [
    {
     "data": {
      "image/png": "[encoded data removed]",
      "text/plain": [
       "<Figure size 640x480 with 1 Axes>"
      ]
     },
     "metadata": {},
     "output_type": "display_data"
    }
   ],
   "source": [
    "accuracies = []\n",
    "\n",
    "for name,model in models.items():\n",
    "    if name in [\"Logistic Regression\", \"KNN\"]:\n",
    "        scores = cross_val_score(model, X_scaled, y, cv=kfold)\n",
    "    else:\n",
    "        scores = cross_val_score(model, X, y, cv=kfold)\n",
    "    accuracies.append(scores.mean())\n",
    "\n",
    "plt.bar(models.keys(), accuracies, color=['skyblue', 'lightgreen', 'orange', 'salmon'])\n",
    "plt.title(\"Model Comparison Graph\")\n",
    "plt.xlabel('Models')\n",
    "plt.ylabel('Cross-Validated Accuracies')\n",
    "plt.grid(True)\n",
    "plt.show()\n"
   ]
  },
  {
   "cell_type": "code",
   "execution_count": 176,
   "id": "39e0bafd",
   "metadata": {},
   "outputs": [
    {
     "data": {
      "image/png": "[encoded data removed]",
      "text/plain": [
       "<Figure size 640x480 with 1 Axes>"
      ]
     },
     "metadata": {},
     "output_type": "display_data"
    }
   ],
   "source": [
    "#vary the k values for cross-data validation. \n",
    "logs = []\n",
    "knns = []\n",
    "dts = []\n",
    "rfs = []\n",
    "n=50\n",
    "ks = list(range(2, n))\n",
    " #randomize order by shuffle = True\n",
    "for K in range(2, n):\n",
    "    kf = KFold(n_splits=K, shuffle=True, random_state=42) #shuffle to randomize data\n",
    "    for name,model in models.items():\n",
    "        if name in [\"Logistic Regression\", \"KNN\"]: #only scale Xs for these models bc they rely on distance. \n",
    "            scores = cross_val_score(model, X_scaled, y, cv=kf)\n",
    "            if name == \"KNN\":\n",
    "                knns.append(scores.mean())\n",
    "            else: \n",
    "                logs.append(scores.mean())\n",
    "        else:\n",
    "            scores = cross_val_score(model, X, y, cv=kf)\n",
    "            if name == \"Random Forest\": \n",
    "                rfs.append(scores.mean())\n",
    "            else: \n",
    "                 dts.append(scores.mean())\n",
    "                       \n",
    "plt.plot(ks, logs, label = \"Log\")\n",
    "plt.plot(ks, knns, label = \"Knn\")\n",
    "plt.plot(ks, dts, label = \"Dt\")\n",
    "plt.plot(ks, rfs, label = \"Rf\")\n",
    "\n",
    "plt.title(\"Model Comparison Graph\")\n",
    "plt.xlabel('Models varied by k-value for kfold')\n",
    "plt.ylabel('Cross-Validated Accuracies')\n",
    "plt.grid(True)\n",
    "plt.legend()\n",
    "plt.show()"
   ]
  },
  {
   "cell_type": "markdown",
   "id": "90f46c03",
   "metadata": {},
   "source": [
    "### Conclusion"
   ]
  },
  {
   "cell_type": "markdown",
   "id": "0fc69b0a",
   "metadata": {},
   "source": [
    "###### Best Model: "
   ]
  },
  {
   "cell_type": "markdown",
   "id": "ef7a6d62",
   "metadata": {},
   "source": [
    "Random Forest: 82.49%"
   ]
  },
  {
   "cell_type": "markdown",
   "id": "9f4074d8",
   "metadata": {},
   "source": [
    "Based on the models performance the model that works the most efficiently is concluded to be the Random Forest Model. This learning method builds an assembly of many decision trees rather than just having one. The importance of having multiple trees falls under training them differently. This allows for each tree to utilize randomized subsets of training data. By having the element of randomness within the data and the features, this model ensures that individual trees have diversity to them. Although each single tree may be considered a ‘weak’ learner due to its imperfect predictions, the combinations of outputs allow for this model to become very powerful. In comparison to other models such as KNN which is very dependent on the sole choice of ‘K’ and logistical metrics. Where KNN struggles with features that may not be of relevance, random forest is more effective due to its internal ranking of features. Moreover, the fault within decision trees mainly lie within how they overfit badly without pruning. This is not an issue found in Random forest as this model controls overfitting by averaging. Lastly, Logistic regression has limited abilities due to modeling linear relationships and this contrast to random forests due to its ability to work with non-linear patterns. Thus, Random Forest is the strongest model because it not only combines predictions of diverse trees, reduces overfitting, and works well with complex pattern structures. "
   ]
  }
 ],
 "metadata": {
  "kernelspec": {
   "display_name": "Python 3 (ipykernel)",
   "language": "python",
   "name": "python3"
  },
  "language_info": {
   "codemirror_mode": {
    "name": "ipython",
    "version": 3
   },
   "file_extension": ".py",
   "mimetype": "text/x-python",
   "name": "python",
   "nbconvert_exporter": "python",
   "pygments_lexer": "ipython3",
   "version": "3.10.9"
  }
 },
 "nbformat": 4,
 "nbformat_minor": 5
}
